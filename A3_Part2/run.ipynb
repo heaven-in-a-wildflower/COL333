{
 "cells": [
  {
   "cell_type": "markdown",
   "metadata": {},
   "source": [
    "To setup the environment run the following commands on kaggle"
   ]
  },
  {
   "cell_type": "code",
   "execution_count": 2,
   "metadata": {},
   "outputs": [],
   "source": [
    "!cp /kaggle/input/setupfiles/environment.yml /kaggle/working/\n",
    "!cp /kaggle/input/setupfiles/install.sh /kaggle/working/\n",
    "\n",
    "!bash install.sh"
   ]
  },
  {
   "cell_type": "markdown",
   "metadata": {},
   "source": [
    "Run your .py file on CLI using the following command"
   ]
  },
  {
   "cell_type": "code",
   "execution_count": 2,
   "metadata": {},
   "outputs": [
    {
     "name": "stdout",
     "output_type": "stream",
     "text": [
      "arg1:path_to_train_dataset, arg2:path_to_val_dataset, arg3:train, arg4:vae.pth, arg5:gmm_params.pkl\n",
      "arg1:path_to_test_dataset_recon, arg2:test_reconstruction, arg3:vae.pth, arg4:None, arg5:None\n",
      "arg1:path_to_test_dataset, arg2:test_classifier, arg3:vae.pth, arg4:gmm_params.pkl, arg5:None\n"
     ]
    }
   ],
   "source": [
    "# Running code for training. save the model in the same directory with name \"vae.pth\"\n",
    "# Save the GMM parameters in the same folder. You can use pickle to save the parameters. \n",
    "!python vae.py path_to_train_dataset path_to_val_dataset train vae.pth gmm_params.pkl\n",
    "\n",
    "# Running code for vae reconstruction.\n",
    "# This should save the reconstruced images in numpy format. see below for more details.\n",
    "!python vae.py path_to_test_dataset_recon test_reconstruction vae.pth\n",
    "\n",
    "#Running code for class prediction during testing\n",
    "!python vae.py path_to_test_dataset test_classifier vae.pth gmm_params.pkl"
   ]
  },
  {
   "cell_type": "code",
   "execution_count": null,
   "metadata": {},
   "outputs": [],
   "source": []
  }
 ],
 "metadata": {
  "kernelspec": {
   "display_name": "Python 3",
   "language": "python",
   "name": "python3"
  },
  "language_info": {
   "codemirror_mode": {
    "name": "ipython",
    "version": 3
   },
   "file_extension": ".py",
   "mimetype": "text/x-python",
   "name": "python",
   "nbconvert_exporter": "python",
   "pygments_lexer": "ipython3",
   "version": "3.7.4"
  }
 },
 "nbformat": 4,
 "nbformat_minor": 2
}
